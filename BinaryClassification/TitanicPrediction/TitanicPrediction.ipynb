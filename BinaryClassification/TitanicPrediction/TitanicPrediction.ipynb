{
 "cells": [
  {
   "cell_type": "markdown",
   "metadata": {},
   "source": [
    "# Assignment: Predict who survived the Titanic disaster\n",
    "\n",
    "The sinking of the RMS Titanic is one of the most infamous shipwrecks in history. On April 15, 1912, during her maiden voyage, the Titanic sank after colliding with an iceberg, killing 1502 out of 2224 passengers and crew. This sensational tragedy shocked the international community and led to better safety regulations for ships.\n",
    "\n",
    "![Sinking Titanic](./assets/titanic.jpeg)\n",
    "\n",
    "In this assignment you're going to build an app that can predict which Titanic passengers survived the disaster. You will use a decision tree classifier to make your predictions.\n",
    "\n",
    "The first thing you will need for your app is the passenger manifest of the Titanic's last voyage. You will use the famous [Kaggle Titanic Dataset](https://github.com/sbaidachni/MLNETTitanic/tree/master/MLNetTitanic) which has data for a subset of 891 passengers.\n",
    "\n",
    "The training and testing data files have already been downloaded and are available to your code as **test_data.csv** and **train_data.csv**.\n",
    "\n",
    "The training data file looks like this:\n",
    "\n",
    "![Training data](./assets/data.jpg)\n",
    "\n",
    "It’s a CSV file with 12 columns of information:\n",
    "\n",
    "* The passenger identifier\n",
    "* The label column containing ‘1’ if the passenger survived and ‘0’ if the passenger perished\n",
    "* The class of travel (1–3)\n",
    "* The name of the passenger\n",
    "* The gender of the passenger (‘male’ or ‘female’)\n",
    "* The age of the passenger, or ‘0’ if the age is unknown\n",
    "* The number of siblings and/or spouses aboard\n",
    "* The number of parents and/or children aboard\n",
    "* The ticket number\n",
    "* The fare paid\n",
    "* The cabin number\n",
    "* The port in which the passenger embarked\n",
    "\n",
    "The second column is the label: 0 means the passenger perished, and 1 means the passenger survived. All other columns are input features from the passenger manifest.\n",
    "\n",
    "You're gooing to build a binary classification model that reads in all columns and then predicts for each passenger if he or she survived.\n",
    "\n",
    "Let’s get started. You will need to install the correct NuGet packages:"
   ]
  },
  {
   "cell_type": "code",
   "execution_count": 1,
   "metadata": {},
   "outputs": [
    {
     "data": {
      "text/html": [
       "Installing package Microsoft.ML.................done!"
      ]
     },
     "metadata": {},
     "output_type": "display_data"
    },
    {
     "data": {
      "text/html": [
       "Successfully added reference to package Microsoft.ML, version 1.4.0"
      ]
     },
     "metadata": {},
     "output_type": "display_data"
    },
    {
     "data": {
      "text/html": [
       "Installing package Microsoft.ML.FastTree.....done!"
      ]
     },
     "metadata": {},
     "output_type": "display_data"
    },
    {
     "data": {
      "text/html": [
       "Successfully added reference to package Microsoft.ML.FastTree, version 1.4.0"
      ]
     },
     "metadata": {},
     "output_type": "display_data"
    }
   ],
   "source": [
    "#r nuget:Microsoft.ML\n",
    "#r nuget:Microsoft.ML.FastTree"
   ]
  },
  {
   "cell_type": "markdown",
   "metadata": {},
   "source": [
    "This will install the Microsoft ML.NET library and an additional library for fast decision tree learners. \n",
    "\n",
    "Now you are ready to add code. You’ll need a class to hold passenger data, and another class to hold your model predictions.\n",
    "\n",
    "Run the following code block:"
   ]
  },
  {
   "cell_type": "code",
   "execution_count": 2,
   "metadata": {},
   "outputs": [],
   "source": [
    "using System;\n",
    "using System.IO;\n",
    "using System.Linq;\n",
    "using Microsoft.ML;\n",
    "using Microsoft.ML.Data;\n",
    "using Microsoft.ML.Transforms;\n",
    "\n",
    "/// <summary>\n",
    "/// The Passenger class represents one passenger on the Titanic.\n",
    "/// </summary>\n",
    "public class Passenger\n",
    "{\n",
    "    public bool Label;\n",
    "    public float Pclass;\n",
    "    public string Name;\n",
    "    public string Sex;\n",
    "    public string RawAge;\n",
    "    public float SibSp;\n",
    "    public float Parch;\n",
    "    public string Ticket;\n",
    "    public float Fare;\n",
    "    public string Cabin;\n",
    "    public string Embarked;\n",
    "}\n",
    "\n",
    "/// <summary>\n",
    "/// The PassengerPrediction class represents one model prediction. \n",
    "/// </summary>\n",
    "public class PassengerPrediction\n",
    "{\n",
    "    [ColumnName(\"PredictedLabel\")] public bool Prediction;\n",
    "    public float Probability;\n",
    "    public float Score;\n",
    "}"
   ]
  },
  {
   "cell_type": "markdown",
   "metadata": {},
   "source": [
    "The **Passenger** class holds one single passenger record. There's also a **PassengerPrediction** class which will hold a single passenger prediction. There's a boolean **Prediction**, a **Probability** value, and the **Score** the model will assign to the prediction.\n",
    "\n",
    "Now look at the age column in the data file. It's a number, but for some passengers in the manifest the age is not known and the column is empty.\n",
    "\n",
    "ML.NET can automatically load and process missing numeric values, but only if they are present in the CSV file as a '?'.\n",
    "\n",
    "The Titanic datafile uses an empty string to denote missing values, so we'll have to perform a feature conversion\n",
    "\n",
    "Notice how the age is loaded as a string into a Passenger class field called **RawAge**. \n",
    "\n",
    "We will process the missing values later in our app. To prepare for this, we'll need two additional helper classes:"
   ]
  },
  {
   "cell_type": "code",
   "execution_count": 3,
   "metadata": {},
   "outputs": [],
   "source": [
    "/// <summary>\n",
    "/// The RawAge class is a helper class for a column transformation.\n",
    "/// </summary>\n",
    "public class FromAge\n",
    "{\n",
    "    public string RawAge;\n",
    "}\n",
    "\n",
    "/// <summary>\n",
    "/// The ProcessedAge class is a helper class for a column transformation.\n",
    "/// </summary>\n",
    "public class ToAge\n",
    "{\n",
    "    public string Age;\n",
    "}"
   ]
  },
  {
   "cell_type": "markdown",
   "metadata": {},
   "source": [
    "The **FromAge** class contains the 'raw' unprocessed age as a string and the **ToAge** class that contains the processed age. \n",
    "\n",
    "Now you're going to load the training data in memory:"
   ]
  },
  {
   "cell_type": "code",
   "execution_count": 6,
   "metadata": {},
   "outputs": [
    {
     "name": "stdout",
     "output_type": "stream",
     "text": [
      "Loading data...done\n"
     ]
    }
   ],
   "source": [
    "// filenames for training and test data\n",
    "private static string trainingDataPath = Path.Combine(Environment.CurrentDirectory, \"train_data.csv\");\n",
    "private static string testDataPath = Path.Combine(Environment.CurrentDirectory, \"test_data.csv\");\n",
    "\n",
    "// set up a machine learning context\n",
    "var mlContext = new MLContext();\n",
    "\n",
    "// set up a text loader\n",
    "var textLoader = mlContext.Data.CreateTextLoader(\n",
    "    new TextLoader.Options() \n",
    "    {\n",
    "        Separators = new[] { ',' },\n",
    "        HasHeader = true,\n",
    "        AllowQuoting = true,\n",
    "        Columns = new[] \n",
    "        {\n",
    "            new TextLoader.Column(\"Label\", DataKind.Boolean, 1),\n",
    "            new TextLoader.Column(\"Pclass\", DataKind.Single, 2),\n",
    "            new TextLoader.Column(\"Name\", DataKind.String, 3),\n",
    "            new TextLoader.Column(\"Sex\", DataKind.String, 4),\n",
    "            new TextLoader.Column(\"RawAge\", DataKind.String, 5),  // <-- not a float!\n",
    "            new TextLoader.Column(\"SibSp\", DataKind.Single, 6),\n",
    "            new TextLoader.Column(\"Parch\", DataKind.Single, 7),\n",
    "            new TextLoader.Column(\"Ticket\", DataKind.String, 8),\n",
    "            new TextLoader.Column(\"Fare\", DataKind.Single, 9),\n",
    "            new TextLoader.Column(\"Cabin\", DataKind.String, 10),\n",
    "            new TextLoader.Column(\"Embarked\", DataKind.String, 11)\n",
    "        }\n",
    "    }\n",
    ");\n",
    "\n",
    "// load training and test data\n",
    "Console.Write(\"Loading data...\");\n",
    "var trainingDataView = textLoader.Load(trainingDataPath);\n",
    "var testDataView = textLoader.Load(testDataPath);\n",
    "Console.WriteLine(\"done\");"
   ]
  },
  {
   "cell_type": "markdown",
   "metadata": {},
   "source": [
    "This code uses the **CreateTextLoader** method to create a CSV data loader. The **TextLoader.Options** class describes how to load each field. Then I call the text loader’s **Load** method twice to load the train- and test data in memory.\n",
    "\n",
    "ML.NET expects missing data in CSV files to appear as a ‘?’, but unfortunately the Titanic file uses an empty string to indicate an unknown age. So the first thing you need to do is replace all empty age strings occurrences with ‘?’.\n",
    "\n",
    "We also don't need the Name, Cabin, and Ticket columns to make predictions, so you'll add some code to get rid of them too.\n",
    "\n",
    "Add the following code:"
   ]
  },
  {
   "cell_type": "code",
   "execution_count": 9,
   "metadata": {},
   "outputs": [],
   "source": [
    "// set up a training pipeline\n",
    "// step 1: drop the name, cabin, and ticket columns\n",
    "var pipeline = mlContext.Transforms.DropColumns(\"Name\", \"Cabin\", \"Ticket\")\n",
    "\n",
    "    // step 2: replace missing ages with '?'\n",
    "    .Append(mlContext.Transforms.CustomMapping<FromAge, ToAge>(\n",
    "        (inp, outp) => { outp.Age = string.IsNullOrEmpty(inp.RawAge) ? \"?\" : inp.RawAge; },\n",
    "        \"AgeMapping\"\n",
    "    ));"
   ]
  },
  {
   "cell_type": "markdown",
   "metadata": {},
   "source": [
    "Machine learning models in ML.NET are built with pipelines, which are sequences of data-loading, transformation, and learning components.\n",
    "\n",
    "The first **DropColumn** component drops the Name, Cabin, and Ticket columns from the dataset. The next **CustomMapping** component converts empty age strings to ‘?’ values.\n",
    "\n",
    "Now ML.NET is happy with the age values. You will now convert the string ages to numeric values and instruct ML.NET to replace any missing values with the mean age over the entire dataset:"
   ]
  },
  {
   "cell_type": "code",
   "execution_count": 12,
   "metadata": {},
   "outputs": [],
   "source": [
    "// step 3: convert string ages to floats\n",
    "var pipeline2 = pipeline\n",
    "    .Append(mlContext.Transforms.Conversion.ConvertType(\n",
    "        \"Age\",\n",
    "        outputKind: DataKind.Single\n",
    "    ))\n",
    "\n",
    "    // step 4: replace missing age values with the mean age\n",
    "    .Append(mlContext.Transforms.ReplaceMissingValues(\n",
    "        \"Age\",\n",
    "        replacementMode: MissingValueReplacingEstimator.ReplacementMode.Mean));\n"
   ]
  },
  {
   "cell_type": "markdown",
   "metadata": {},
   "source": [
    "The **ConvertType** component converts the Age column to a single-precision floating point value. And the **ReplaceMissingValues** component replaces any missing values with the mean value of all ages in the entire dataset. \n",
    "\n",
    "Now let's process the rest of the data columns. The Sex and Embarked columns are enumerations of string values. As you've learned in the Processing Data section, you'll need to one-hot encode them first:"
   ]
  },
  {
   "cell_type": "code",
   "execution_count": 13,
   "metadata": {},
   "outputs": [],
   "source": [
    "// step 5: replace sex and embarked columns with one-hot encoded vectors\n",
    "var pipeline3 = pipeline2\n",
    "    .Append(mlContext.Transforms.Categorical.OneHotEncoding(\"Sex\"))\n",
    "    .Append(mlContext.Transforms.Categorical.OneHotEncoding(\"Embarked\"));"
   ]
  },
  {
   "cell_type": "markdown",
   "metadata": {},
   "source": [
    "The **OneHotEncoding** component takes an input column, one-hot encodes all values, and produces a new column with the same name holding the one-hot vectors. \n",
    "\n",
    "Now let's wrap up the pipeline:"
   ]
  },
  {
   "cell_type": "code",
   "execution_count": 14,
   "metadata": {},
   "outputs": [],
   "source": [
    "// step 6: concatenate everything into a single feature column \n",
    "var pipeline4 = pipeline3\n",
    "    .Append(mlContext.Transforms.Concatenate(\n",
    "        \"Features\", \n",
    "        \"Age\",\n",
    "        \"Pclass\", \n",
    "        \"SibSp\",\n",
    "        \"Parch\",\n",
    "        \"Sex\",\n",
    "        \"Embarked\"))\n",
    "\n",
    "    // step 7: use a fasttree trainer\n",
    "    .Append(mlContext.BinaryClassification.Trainers.FastTree(\n",
    "        labelColumnName: \"Label\", \n",
    "        featureColumnName: \"Features\"));"
   ]
  },
  {
   "cell_type": "markdown",
   "metadata": {},
   "source": [
    "The **Concatenate** component concatenates all remaining feature columns into a single column for training. This is required because ML.NET can only train on a single input column.\n",
    "\n",
    "And the **FastTreeBinaryClassificationTrainer** is the algorithm that's going to train the model. You're going to build a decision tree classifier that uses the Fast Tree algorithm to train on the data and configure the tree.\n",
    "\n",
    "Now all you need to do now is train the model on the entire dataset, compare the predictions with the labels, and compute a bunch of metrics that describe how accurate the model is:"
   ]
  },
  {
   "cell_type": "code",
   "execution_count": 17,
   "metadata": {},
   "outputs": [
    {
     "name": "stdout",
     "output_type": "stream",
     "text": [
      "Training model...done\n",
      "Evaluating model...\n",
      "  Accuracy:          83.80%\n",
      "  Auc:               88.29%\n",
      "  Auprc:             86.75%\n",
      "  F1Score:           77.52%\n",
      "  LogLoss:           0.63\n",
      "  LogLossReduction:  0.32\n",
      "  PositivePrecision: 0.76\n",
      "  PositiveRecall:    0.79\n",
      "  NegativePrecision: 0.88\n",
      "  NegativeRecall:    0.86\n",
      "\n"
     ]
    }
   ],
   "source": [
    "// train the model\n",
    "Console.Write(\"Training model...\");\n",
    "var trainedModel = pipeline4.Fit(trainingDataView);\n",
    "Console.WriteLine(\"done\");\n",
    "\n",
    "// make predictions for the test data set\n",
    "Console.WriteLine(\"Evaluating model...\");\n",
    "var predictions = trainedModel.Transform(testDataView);\n",
    "\n",
    "// compare the predictions with the ground truth\n",
    "var metrics = mlContext.BinaryClassification.Evaluate(\n",
    "    data: predictions, \n",
    "    labelColumnName: \"Label\", \n",
    "    scoreColumnName: \"Score\");\n",
    "\n",
    "// report the results\n",
    "Console.WriteLine($\"  Accuracy:          {metrics.Accuracy:P2}\");\n",
    "Console.WriteLine($\"  Auc:               {metrics.AreaUnderRocCurve:P2}\");\n",
    "Console.WriteLine($\"  Auprc:             {metrics.AreaUnderPrecisionRecallCurve:P2}\");\n",
    "Console.WriteLine($\"  F1Score:           {metrics.F1Score:P2}\");\n",
    "Console.WriteLine($\"  LogLoss:           {metrics.LogLoss:0.##}\");\n",
    "Console.WriteLine($\"  LogLossReduction:  {metrics.LogLossReduction:0.##}\");\n",
    "Console.WriteLine($\"  PositivePrecision: {metrics.PositivePrecision:0.##}\");\n",
    "Console.WriteLine($\"  PositiveRecall:    {metrics.PositiveRecall:0.##}\");\n",
    "Console.WriteLine($\"  NegativePrecision: {metrics.NegativePrecision:0.##}\");\n",
    "Console.WriteLine($\"  NegativeRecall:    {metrics.NegativeRecall:0.##}\");\n",
    "Console.WriteLine();"
   ]
  },
  {
   "cell_type": "markdown",
   "metadata": {},
   "source": [
    "This code calls **Fit** to train the model on the entire dataset, **Transform** to set up a prediction for each passenger, and **Evaluate** to compare these predictions to the label and automatically calculate all evaluation metrics:\n",
    "\n",
    "* **Accuracy**: this is the number of correct predictions divided by the total number of predictions.\n",
    "* **AreaUnderRocCurve**: a metric that indicates how accurate the model is: 0 = the model is wrong all the time, 0.5 = the model produces random output, 1 = the model is correct all the time. An AUC of 0.8 or higher is considered good.\n",
    "* **AreaUnderPrecisionRecallCurve**: an alternate AUC metric that performs better for heavily imbalanced datasets with many more negative results than positive.\n",
    "* **F1Score**: this is a metric that strikes a balance between Precision and Recall. It’s useful for imbalanced datasets with many more negative results than positive.\n",
    "* **LogLoss**: this is a metric that expresses the size of the error in the predictions the model is making. A logloss of zero means every prediction is correct, and the loss value rises as the model makes more and more mistakes.\n",
    "* **LogLossReduction**: this metric is also called the Reduction in Information Gain (RIG). It expresses the probability that the model’s predictions are better than random chance.\n",
    "* **PositivePrecision**: also called ‘Precision’, this is the fraction of positive predictions that are correct. This is a good metric to use when the cost of a false positive prediction is high.\n",
    "* **PositiveRecall**: also called ‘Recall’, this is the fraction of positive predictions out of all positive cases. This is a good metric to use when the cost of a false negative is high.\n",
    "* **NegativePrecision**: this is the fraction of negative predictions that are correct.\n",
    "* **NegativeRecall**: this is the fraction of negative predictions out of all negative cases.\n",
    "\n",
    "I’m looking at a historic disaster, which means the cost of false positives and false negatives is about equal.\n",
    "\n",
    "The dataset is reasonably balanced. Out of 891 passengers, 342 survived. That's 38% of the dataset, so I'm looking at a 62/38 balance. It's not perfect, but not too bad either.\n",
    "\n",
    "Given the equal cost of false positives and negatives, and the level of balance in the dataset, I decide to use the Accuracy metric to evaluate my model.\n",
    "\n",
    "And because I'm not working with an unbalanced dataset, there's no need to use the AUCPRC or F1Score metrics.\n",
    "\n",
    "So I will focus on Accuracy and AUC to evaluate this model.\n",
    "\n",
    "I’m getting an accuracy of 83.8%. It means that for every 100 Titanic passengers, my model is able to predict 83 of them correctly. That’s not bad at all.\n",
    "\n",
    "I also get an AUC value of 0.8829. This is great, it means my model has good (almost excellent) predictive ability.\n",
    "\n",
    "To wrap up, let's have some fun and pretend that I’m going to take a trip on the Titanic too. I will embark in Southampton and pay $70 for a first-class cabin. I travel on my own without parents, children, or my spouse. \n",
    "\n",
    "What are my odds of surviving?\n",
    "\n",
    "Add the following code:"
   ]
  },
  {
   "cell_type": "code",
   "execution_count": 18,
   "metadata": {},
   "outputs": [
    {
     "name": "stdout",
     "output_type": "stream",
     "text": [
      "Making a prediction...\n",
      "Passenger:   Mark Farragher \n",
      "Prediction:  survived \n",
      "Probability: 0.8422213 \n"
     ]
    }
   ],
   "source": [
    "// set up a prediction engine\n",
    "Console.WriteLine(\"Making a prediction...\");\n",
    "var predictionEngine = mlContext.Model.CreatePredictionEngine<Passenger, PassengerPrediction>(trainedModel);\n",
    "\n",
    "// create a sample record\n",
    "var passenger = new Passenger()\n",
    "{ \n",
    "    Pclass = 1,\n",
    "    Name = \"Mark Farragher\",\n",
    "    Sex = \"male\",\n",
    "    RawAge = \"48\",\n",
    "    SibSp = 0,\n",
    "    Parch = 0,\n",
    "    Fare = 70,\n",
    "    Embarked = \"S\"\n",
    "};\n",
    "\n",
    "// make the prediction\n",
    "var prediction = predictionEngine.Predict(passenger);\n",
    "\n",
    "// report the results\n",
    "Console.WriteLine($\"Passenger:   {passenger.Name} \");\n",
    "Console.WriteLine($\"Prediction:  {(prediction.Prediction ? \"survived\" : \"perished\" )} \");\n",
    "Console.WriteLine($\"Probability: {prediction.Probability} \");"
   ]
  },
  {
   "cell_type": "markdown",
   "metadata": {},
   "source": [
    "This code uses the **CreatePredictionEngine** method to set up a prediction engine. The two type arguments are the input data class and the class to hold the prediction. And once the prediction engine is set up, you can simply call **Predict** to make a single prediction.\n",
    "\n",
    "So would I have survived the Titanic disaster?\n",
    "\n",
    " I’m happy to learn that I survived the Titanic disaster. My model predicts that I had a 84.22% chance of making it off the ship alive. It’s probably because I booked a first-class cabin and traveled alone."
   ]
  }
 ],
 "metadata": {
  "kernelspec": {
   "display_name": ".NET (C#)",
   "language": "C#",
   "name": ".net-csharp"
  },
  "language_info": {
   "file_extension": ".cs",
   "mimetype": "text/x-csharp",
   "name": "C#",
   "pygments_lexer": "csharp",
   "version": "8.0"
  }
 },
 "nbformat": 4,
 "nbformat_minor": 2
}

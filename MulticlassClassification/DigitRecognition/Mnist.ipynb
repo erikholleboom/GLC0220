{
 "cells": [
  {
   "cell_type": "markdown",
   "metadata": {},
   "source": [
    "# Assignment: Recognize handwritten digits\n",
    "\n",
    "In this article, You are going to build an app that recognizes handwritten digits from the famous MNIST machine learning dataset:\n",
    "\n",
    "![MNIST digits](./assets/mnist.png)\n",
    "\n",
    "Your app must read these images of handwritten digits and correctly predict which digit is visible in each image.\n",
    "\n",
    "This may seem like an easy challenge, but look at this:\n",
    "\n",
    "![Difficult MNIST digits](./assets/mnist_hard.png)\n",
    "\n",
    "These are a couple of digits from the dataset. Are you able to identify each one? It probably won’t surprise you to hear that the human error rate on this exercise is around 2.5%.\n",
    "\n",
    "The first thing you will need for your app is a data file with images of handwritten digits. We will not use the original MNIST data because it's stored in a nonstandard binary format.\n",
    "\n",
    "Instead, we'll use these excellent [CSV files](https://www.kaggle.com/oddrationale/mnist-in-csv/) prepared by Daniel Dato on Kaggle.\n",
    "\n",
    "The training and testing files **mnist_train.csv** and **mnist_test.csv** have already been downloaded and are available to your code. There are 60,000 images in the training file and 10,000 in the test file. Each image is monochrome and resized to 28x28 pixels.\n",
    "\n",
    "The training file looks like this:\n",
    "\n",
    "![Data file](./assets/datafile.png)\n",
    "\n",
    "It’s a CSV file with 785 columns:\n",
    "\n",
    "* The first column contains the label. It tells us which one of the 10 possible digits is visible in the image.\n",
    "* The next 784 columns are the pixel intensity values (0..255) for each pixel in the image, counting from left to right and top to bottom.\n",
    "\n",
    "You are going to build a multiclass classification machine learning model that reads in all 785 columns, and then makes a prediction for each digit in the dataset.\n",
    "\n",
    "Let’s get started. You're going to install the following ML.NET packages:"
   ]
  },
  {
   "cell_type": "code",
   "execution_count": 1,
   "metadata": {},
   "outputs": [
    {
     "data": {
      "text/html": [
       "Installing package Microsoft.ML...............done!"
      ]
     },
     "metadata": {},
     "output_type": "display_data"
    },
    {
     "data": {
      "text/html": [
       "Successfully added reference to package Microsoft.ML, version 1.4.0"
      ]
     },
     "metadata": {},
     "output_type": "display_data"
    },
    {
     "data": {
      "text/html": [
       "Installing package BetterConsoleTables......done!"
      ]
     },
     "metadata": {},
     "output_type": "display_data"
    },
    {
     "data": {
      "text/html": [
       "Successfully added reference to package BetterConsoleTables, version 1.1.2"
      ]
     },
     "metadata": {},
     "output_type": "display_data"
    }
   ],
   "source": [
    "#r nuget:Microsoft.ML\n",
    "#r nuget:BetterConsoleTables"
   ]
  },
  {
   "cell_type": "markdown",
   "metadata": {},
   "source": [
    "This will install the Microsoft ML.NET machine learning library. And **BetterConsoleTables** is an additional package that will help you output tabular data in a nice format to the console. \n",
    "\n",
    "Now you are ready to add some classes. You’ll need one to hold a digit, and one to hold your model prediction:"
   ]
  },
  {
   "cell_type": "code",
   "execution_count": 2,
   "metadata": {},
   "outputs": [],
   "source": [
    "using System;\n",
    "using System.IO;\n",
    "using System.Linq;\n",
    "using Microsoft.ML;\n",
    "using Microsoft.ML.Data;\n",
    "using Microsoft.ML.Transforms;\n",
    "using BetterConsoleTables;\n",
    "\n",
    "/// <summary>\n",
    "/// The Digit class represents one mnist digit.\n",
    "/// </summary>\n",
    "class Digit\n",
    "{\n",
    "    [ColumnName(\"PixelValues\")]\n",
    "    [VectorType(784)]\n",
    "    public float[] PixelValues;\n",
    "\n",
    "    [LoadColumn(0)]\n",
    "    public float Number;\n",
    "}\n",
    "\n",
    "/// <summary>\n",
    "/// The DigitPrediction class represents one digit prediction.\n",
    "/// </summary>\n",
    "class DigitPrediction\n",
    "{\n",
    "    [ColumnName(\"Score\")]\n",
    "    public float[] Score;\n",
    "}"
   ]
  },
  {
   "cell_type": "markdown",
   "metadata": {},
   "source": [
    "The **Digit** class holds one single MNIST digit image. Note how the field is tagged with a **VectorTyp**e attribute. This tells ML.NET to combine the 784 individual pixel columns into a single vector value.\n",
    "\n",
    "There's also a **DigitPrediction** class which will hold a single prediction. And notice how the prediction score is actually an array? The model will generate 10 scores, one for every possible digit value. \n",
    "\n",
    "Next you'll need to load the data in memory:"
   ]
  },
  {
   "cell_type": "code",
   "execution_count": 5,
   "metadata": {},
   "outputs": [
    {
     "name": "stdout",
     "output_type": "stream",
     "text": [
      "Loading data....done\n"
     ]
    }
   ],
   "source": [
    "// filenames for data set\n",
    "private static string trainDataPath = Path.Combine(Environment.CurrentDirectory, \"mnist_train.csv\");\n",
    "private static string testDataPath = Path.Combine(Environment.CurrentDirectory, \"mnist_test.csv\");\n",
    "\n",
    "// create a machine learning context\n",
    "var context = new MLContext();\n",
    "\n",
    "// load data\n",
    "Console.Write(\"Loading data....\");\n",
    "var columnDef = new TextLoader.Column[]\n",
    "{\n",
    "    new TextLoader.Column(nameof(Digit.PixelValues), DataKind.Single, 1, 784),\n",
    "    new TextLoader.Column(\"Number\", DataKind.Single, 0)\n",
    "};\n",
    "var trainDataView = context.Data.LoadFromTextFile(\n",
    "    path: trainDataPath,\n",
    "    columns : columnDef,\n",
    "    hasHeader : true,\n",
    "    separatorChar : ',');\n",
    "var testDataView = context.Data.LoadFromTextFile(\n",
    "    path: testDataPath,\n",
    "    columns : columnDef,\n",
    "    hasHeader : true,\n",
    "    separatorChar : ',');\n",
    "Console.WriteLine(\"done\");"
   ]
  },
  {
   "cell_type": "markdown",
   "metadata": {},
   "source": [
    "This code uses the **LoadFromTextFile** method to load the CSV data directly into memory. Note the **columnDef** variable that instructs ML.NET to load CSV columns 1..784 into the PixelValues column, and CSV column 0 into the Number column.\n",
    "\n",
    "Now let’s build the machine learning pipeline:"
   ]
  },
  {
   "cell_type": "code",
   "execution_count": 8,
   "metadata": {},
   "outputs": [
    {
     "name": "stdout",
     "output_type": "stream",
     "text": [
      "Training the model, this can take a few seconds. Please wait until the word 'done' appears....done\n"
     ]
    }
   ],
   "source": [
    "// build a training pipeline\n",
    "// step 1: map the number column to a key value and store in the label column\n",
    "var pipeline = context.Transforms.Conversion.MapValueToKey(\n",
    "    outputColumnName: \"Label\", \n",
    "    inputColumnName: \"Number\", \n",
    "    keyOrdinality: ValueToKeyMappingEstimator.KeyOrdinality.ByValue)\n",
    "\n",
    "    // step 2: concatenate all feature columns\n",
    "    .Append(context.Transforms.Concatenate(\n",
    "        \"Features\", \n",
    "        nameof(Digit.PixelValues)))\n",
    "        \n",
    "    // step 3: cache data to speed up training                \n",
    "    .AppendCacheCheckpoint(context)\n",
    "\n",
    "    // step 4: train the model with SDCA\n",
    "    .Append(context.MulticlassClassification.Trainers.SdcaMaximumEntropy(\n",
    "        labelColumnName: \"Label\", \n",
    "        featureColumnName: \"Features\"))\n",
    "\n",
    "    // step 5: map the label key value back to a number\n",
    "    .Append(context.Transforms.Conversion.MapKeyToValue(\n",
    "        outputColumnName: \"Number\",\n",
    "        inputColumnName: \"Label\"));\n",
    "\n",
    "// train the model\n",
    "Console.Write(\"Training the model, this can take a few seconds. Please wait until the word 'done' appears....\");\n",
    "var model = pipeline.Fit(trainDataView);\n",
    "Console.WriteLine(\"done\");"
   ]
  },
  {
   "cell_type": "markdown",
   "metadata": {},
   "source": [
    "Machine learning models in ML.NET are built with pipelines, which are sequences of data-loading, transformation, and learning components.\n",
    "\n",
    "This pipeline has the following components:\n",
    "\n",
    "* **MapValueToKey** which reads the **Number** column and builds a dictionary of unique values. It then produces an output column called **Label** which contains the dictionary key for each number value. We need this step because we can only train a multiclass classifier on keys. \n",
    "* **Concatenate** which converts the PixelValue vector into a single column called Features. This is a required step because ML.NET can only train on a single input column.\n",
    "* **AppendCacheCheckpoint** which caches all training data at this point. This is an optimization step that speeds up the learning algorithm which comes next.\n",
    "* A **SdcaMaximumEntropy** classification learner which will train the model to make accurate predictions.\n",
    "* A final **MapKeyToValue** step which converts the keys in the **Label** column back to the original number values. We need this step to show the numbers when making predictions. \n",
    "\n",
    "With the pipeline fully assembled, you can train the model with a call to **Fit**.\n",
    "\n",
    "You now have a fully- trained model. So now it's time to take the test set, predict the number for each digit image, and calculate the accuracy metrics of the model:"
   ]
  },
  {
   "cell_type": "code",
   "execution_count": 9,
   "metadata": {},
   "outputs": [
    {
     "name": "stdout",
     "output_type": "stream",
     "text": [
      "Evaluating model....\n",
      "Evaluation metrics\n",
      "    MicroAccuracy:    0.868\n",
      "    MacroAccuracy:    0.867\n",
      "    LogLoss:          .429\n",
      "    LogLossReduction: .814\n",
      "\n"
     ]
    }
   ],
   "source": [
    "// use the model to make predictions on the test data\n",
    "Console.WriteLine(\"Evaluating model....\");\n",
    "var predictions = model.Transform(testDataView);\n",
    "\n",
    "// evaluate the predictions\n",
    "var metrics = context.MulticlassClassification.Evaluate(\n",
    "    data: predictions, \n",
    "    labelColumnName: \"Number\", \n",
    "    scoreColumnName: \"Score\");\n",
    "\n",
    "// show evaluation metrics\n",
    "Console.WriteLine($\"Evaluation metrics\");\n",
    "Console.WriteLine($\"    MicroAccuracy:    {metrics.MicroAccuracy:0.###}\");\n",
    "Console.WriteLine($\"    MacroAccuracy:    {metrics.MacroAccuracy:0.###}\");\n",
    "Console.WriteLine($\"    LogLoss:          {metrics.LogLoss:#.###}\");\n",
    "Console.WriteLine($\"    LogLossReduction: {metrics.LogLossReduction:#.###}\");\n",
    "Console.WriteLine();"
   ]
  },
  {
   "cell_type": "markdown",
   "metadata": {},
   "source": [
    "This code calls **Transform** to set up predictions for every single image in the test set. And the **Evaluate** method compares these predictions to the actual labels and automatically calculates four metrics:\n",
    "\n",
    "* **MicroAccuracy**: this is the average accuracy (=the number of correct predictions divided by the total number of predictions) for every digit in the dataset.\n",
    "* **MacroAccuracy**: this is calculated by first calculating the average accuracy for each unique prediction value, and then taking the averages of those averages.\n",
    "* **LogLoss**: this is a metric that expresses the size of the error in the predictions the model is making. A logloss of zero means every prediction is correct, and the loss value rises as the model makes more and more mistakes.\n",
    "* **LogLossReduction**: this metric is also called the Reduction in Information Gain (RIG). It expresses the probability that the model’s predictions are better than random chance.\n",
    "\n",
    "We get a MicroAccuracy value of 0.868 and a MacroAccuracy value of 0.867. These two values are very close together, which means that the dataset is not biased. Each digit occurs roughly the same number of times in the file.\n",
    "\n",
    "A micro-accuracy of 87% is not a bad result, it means that out of 100 digits the model only makes 13 mistakes. But keep in mind that a human would only make 2.5 mistakes on the same task! This model is nowhere near human performance. \n",
    "\n",
    "To wrap up, let’s use the model to make a prediction.\n",
    "\n",
    "You will pick five arbitrary digits from the test set, run them through the model, and make a prediction for each one.\n",
    "\n",
    "Here’s how to do it:"
   ]
  },
  {
   "cell_type": "code",
   "execution_count": 16,
   "metadata": {},
   "outputs": [
    {
     "name": "stdout",
     "output_type": "stream",
     "text": [
      "┌───────┬────────┬────────┬────────┬────────┬───────┬────────┬───────┬────────┬───────┬────────┐                       \r\n",
      "│ Digit │ P0     │ P1     │ P2     │ P3     │ P4    │ P5     │ P6    │ P7     │ P8    │ P9     │                       \r\n",
      "├───────┼────────┼────────┼────────┼────────┼───────┼────────┼───────┼────────┼───────┼────────┤                       \r\n",
      "│ 1     │ 0.00%  │ 98.40% │ 0.21%  │ 0.50%  │ 0.00% │ 0.01%  │ 0.00% │ 0.27%  │ 0.55% │ 0.04%  │                       \r\n",
      "│ 9     │ 0.02%  │ 0.00%  │ 0.22%  │ 0.01%  │ 7.58% │ 0.01%  │ 0.01% │ 16.78% │ 0.49% │ 74.89% │                       \r\n",
      "│ 0     │ 99.20% │ 0.00%  │ 0.06%  │ 0.28%  │ 0.00% │ 0.31%  │ 0.00% │ 0.00%  │ 0.15% │ 0.00%  │                       \r\n",
      "│ 3     │ 0.02%  │ 0.06%  │ 35.40% │ 49.98% │ 2.06% │ 0.73%  │ 0.09% │ 0.09%  │ 7.07% │ 4.51%  │                       \r\n",
      "│ 5     │ 0.07%  │ 0.00%  │ 0.03%  │ 1.12%  │ 0.02% │ 94.72% │ 0.01% │ 0.00%  │ 2.03% │ 2.00%  │                       \r\n",
      "└───────┴────────┴────────┴────────┴────────┴───────┴────────┴───────┴────────┴───────┴────────┘                       \r\n",
      "\r\n"
     ]
    }
   ],
   "source": [
    "// grab five digits from the test data\n",
    "var digits = context.Data.CreateEnumerable<Digit>(testDataView, reuseRowObject: false).ToArray();\n",
    "var testDigits = new Digit[] { digits[5], digits[16], digits[28], digits[63], digits[129] };\n",
    "\n",
    "// create a prediction engine\n",
    "var engine = context.Model.CreatePredictionEngine<Digit, DigitPrediction>(model);\n",
    "\n",
    "// set up a table to show the predictions\n",
    "var table = new Table(TableConfiguration.Unicode());\n",
    "table.AddColumn(\"Digit\");\n",
    "for (var i = 0; i < 10; i++)\n",
    "    table.AddColumn($\"P{i}\");\n",
    "\n",
    "// predict each test digit\n",
    "for (var i=0; i < testDigits.Length; i++)\n",
    "{\n",
    "    var prediction = engine.Predict(testDigits[i]);\n",
    "    table.AddRow(\n",
    "        testDigits[i].Number, \n",
    "        prediction.Score[0].ToString(\"P2\"),\n",
    "        prediction.Score[1].ToString(\"P2\"),\n",
    "        prediction.Score[2].ToString(\"P2\"),\n",
    "        prediction.Score[3].ToString(\"P2\"),\n",
    "        prediction.Score[4].ToString(\"P2\"),\n",
    "        prediction.Score[5].ToString(\"P2\"),\n",
    "        prediction.Score[6].ToString(\"P2\"),\n",
    "        prediction.Score[7].ToString(\"P2\"),\n",
    "        prediction.Score[8].ToString(\"P2\"),\n",
    "        prediction.Score[9].ToString(\"P2\"));\n",
    "}\n",
    "\n",
    "// show results\n",
    "Console.WriteLine(table);"
   ]
  },
  {
   "cell_type": "markdown",
   "metadata": {},
   "source": [
    "This code calls the **CreateEnumerable** method to convert the test dataview to an array of Digit instances. Then it picks five random digits for testing.\n",
    "\n",
    "The **CreatePredictionEngine** method sets up a prediction engine. The two type arguments are the input data class and the class to hold the prediction.\n",
    "\n",
    "The code then prepares a **Table** from the **BetterConsoleTables** package to present the output in a nice tabular format. \n",
    "\n",
    "And finally, the code makes a prediction by calling **Predict** and fills a new table row with the digit label and the 10 prediction scores for each possible result. \n",
    "\n",
    "And here are the results for the five test digits:\n",
    "\n",
    "* The first prediction scores 98% on ‘1’ which is correct.\n",
    "* The second prediction scores 75% on ‘9’ (correct) and 8% on ‘4’. And this make sense if you think about it — a 4 and a 9 do look very similar. But the model correctly picks ‘9’ as the most likely solution.\n",
    "* The third prediction scores 99% on ‘0’ which is correct.\n",
    "* The fourth prediction scores only 50% on ‘3’. The model thinks the number could also be a '2', a '9', an '8', or a '4'. This also makes sense - a very sloppily drawn 3 could indeed look like a 2, a 9, or an 8. \n",
    "* And the fifth prediction scores 95% on '5' which is correct.\n",
    "\n",
    "All five test predictions are correct."
   ]
  }
 ],
 "metadata": {
  "kernelspec": {
   "display_name": ".NET (C#)",
   "language": "C#",
   "name": ".net-csharp"
  },
  "language_info": {
   "file_extension": ".cs",
   "mimetype": "text/x-csharp",
   "name": "C#",
   "pygments_lexer": "csharp",
   "version": "8.0"
  }
 },
 "nbformat": 4,
 "nbformat_minor": 2
}

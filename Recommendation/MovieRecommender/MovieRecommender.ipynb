{
 "cells": [
  {
   "cell_type": "markdown",
   "metadata": {},
   "source": [
    "# Assignment: Recommend new movies to film fans\n",
    "\n",
    "In this assignment you're going to build a movie recommendation system that can recommend new movies to film fans.\n",
    "\n",
    "The first thing you'll need is a data file with thousands of movies rated by many different users. The [MovieLens Project](https://movielens.org) has exactly what you need.\n",
    "\n",
    "The data files **recommendation-movies.csv**, **recommendation-ratings-test.csv** and **recommendation-ratings-train.csv** have already been downloaded and are available to your code. There are 100,000 movie ratings in total with 99,980 set aside for training and 20 for testing. \n",
    "\n",
    "The training and testing files are in CSV format and look like this:\n",
    "￼\n",
    "\n",
    "![Data File](./assets/data.png)\n",
    "\n",
    "There are only four columns of data:\n",
    "\n",
    "* The ID of the user\n",
    "* The ID of the movie\n",
    "* The movie rating on a scale from 1–5\n",
    "* The timestamp of the rating\n",
    "\n",
    "There's also a movie dictionary in CSV format with all the movie IDs and titles:\n",
    "\n",
    "\n",
    "![Data File](./assets/movies.png)\n",
    "\n",
    "You are going to build a data science model that reads in each user ID, movie ID, and rating, and then predicts the ratings each user would give for every movie in the dataset.\n",
    "\n",
    "Once you have a fully trained model, you can easily add a new user with a couple of favorite movies and then ask the model to generate predictions for any of the other movies in the dataset.\n",
    "\n",
    "And in fact this is exactly how the recommendation systems on Netflix and Amazon work. \n",
    "\n",
    "Let's get started. You'll need to install the following packages:"
   ]
  },
  {
   "cell_type": "code",
   "execution_count": 2,
   "metadata": {},
   "outputs": [
    {
     "data": {
      "text/html": [
       "Installing package Microsoft.ML..done!"
      ]
     },
     "metadata": {},
     "output_type": "display_data"
    },
    {
     "data": {
      "text/html": [
       "Successfully added reference to package Microsoft.ML, version 1.4.0"
      ]
     },
     "metadata": {},
     "output_type": "display_data"
    },
    {
     "data": {
      "text/html": [
       "Installing package Microsoft.ML.Recommender.......done!"
      ]
     },
     "metadata": {},
     "output_type": "display_data"
    },
    {
     "data": {
      "text/html": [
       "Successfully added reference to package Microsoft.ML.Recommender, version 0.16.0"
      ]
     },
     "metadata": {},
     "output_type": "display_data"
    }
   ],
   "source": [
    "#r nuget:Microsoft.ML\n",
    "#r nuget:Microsoft.ML.Recommender"
   ]
  },
  {
   "cell_type": "markdown",
   "metadata": {},
   "source": [
    "This will install the Microsoft ML.NET library and the extension for building recommendation systems. \n",
    "\n",
    "ow you're ready to add some classes. You will need one class to hold a movie rating, and one to hold your model’s predictions."
   ]
  },
  {
   "cell_type": "code",
   "execution_count": 3,
   "metadata": {},
   "outputs": [],
   "source": [
    "using System;\n",
    "using System.IO;\n",
    "using System.Linq;\n",
    "using Microsoft.ML;\n",
    "using Microsoft.ML.Trainers;\n",
    "using Microsoft.ML.Data;\n",
    "\n",
    "/// <summary>\n",
    "/// The MovieRating class holds a single movie rating.\n",
    "/// </summary>\n",
    "public class MovieRating\n",
    "{\n",
    "    [LoadColumn(0)] public float UserID;\n",
    "    [LoadColumn(1)] public float MovieID;\n",
    "    [LoadColumn(2)] public float Label;\n",
    "}\n",
    "\n",
    "/// <summary>\n",
    "/// The MovieRatingPrediction class holds a single movie prediction.\n",
    "/// </summary>\n",
    "public class MovieRatingPrediction\n",
    "{\n",
    "    public float Label;\n",
    "    public float Score;\n",
    "}"
   ]
  },
  {
   "cell_type": "markdown",
   "metadata": {},
   "source": [
    "The **MovieRating** class holds one single movie rating. Note how each field is tagged with a **LoadColumn** attribute that tell the CSV data loading code which column to import data from.\n",
    "\n",
    "You're also declaring a **MovieRatingPrediction** class which will hold a single movie rating prediction.\n",
    "\n",
    "Now you need to load the training data in memory:"
   ]
  },
  {
   "cell_type": "code",
   "execution_count": 5,
   "metadata": {},
   "outputs": [
    {
     "name": "stdout",
     "output_type": "stream",
     "text": [
      "Loading data...done\n"
     ]
    }
   ],
   "source": [
    "// filenames for training and test data\n",
    "private static string trainingDataPath = Path.Combine(Environment.CurrentDirectory, \"recommendation-ratings-train.csv\");\n",
    "private static string testDataPath = Path.Combine(Environment.CurrentDirectory, \"recommendation-ratings-test.csv\");\n",
    "\n",
    "// set up a new machine learning context\n",
    "var context = new MLContext();\n",
    "\n",
    "// load training and test data\n",
    "Console.Write(\"Loading data...\");\n",
    "var trainingDataView = context.Data.LoadFromTextFile<MovieRating>(trainingDataPath, hasHeader: true, separatorChar: ',');\n",
    "var testDataView = context.Data.LoadFromTextFile<MovieRating>(testDataPath, hasHeader: true, separatorChar: ',');\n",
    "Console.WriteLine(\"done\");"
   ]
  },
  {
   "cell_type": "markdown",
   "metadata": {},
   "source": [
    "This code uses the method **LoadFromTextFile** to load the CSV data directly into memory. The class field annotations tell the method how to store the loaded data in the **MovieRating** class.\n",
    "\n",
    "Now you're ready to start building the machine learning model:"
   ]
  },
  {
   "cell_type": "code",
   "execution_count": 8,
   "metadata": {},
   "outputs": [
    {
     "name": "stdout",
     "output_type": "stream",
     "text": [
      "Training the model...done\n"
     ]
    }
   ],
   "source": [
    "// prepare matrix factorization options\n",
    "var options = new MatrixFactorizationTrainer.Options\n",
    "{\n",
    "    MatrixColumnIndexColumnName = \"UserIDEncoded\",\n",
    "    MatrixRowIndexColumnName = \"MovieIDEncoded\", \n",
    "    LabelColumnName = \"Label\",\n",
    "    NumberOfIterations = 20,\n",
    "    ApproximationRank = 100\n",
    "};\n",
    "\n",
    "// set up a training pipeline\n",
    "// step 1: map UserID and MovieID to keys\n",
    "var pipeline = context.Transforms.Conversion.MapValueToKey(\n",
    "        inputColumnName: \"UserID\",\n",
    "        outputColumnName: \"UserIDEncoded\")\n",
    "    .Append(context.Transforms.Conversion.MapValueToKey(\n",
    "        inputColumnName: \"MovieID\",\n",
    "        outputColumnName: \"MovieIDEncoded\")\n",
    "\n",
    "    // step 2: find recommendations using matrix factorization\n",
    "    .Append(context.Recommendation().Trainers.MatrixFactorization(options)));\n",
    "\n",
    "// train the model\n",
    "Console.Write(\"Training the model...\");\n",
    "var model = pipeline.Fit(trainingDataView);  \n",
    "Console.WriteLine(\"done\");"
   ]
  },
  {
   "cell_type": "markdown",
   "metadata": {},
   "source": [
    "Machine learning models in ML.NET are built with pipelines, which are sequences of data-loading, transformation, and learning components.\n",
    "\n",
    "This pipeline has the following components:\n",
    "\n",
    "* **MapValueToKey** which reads the UserID column and builds a dictionary of unique ID values. It then produces an output column called UserIDEncoded containing an encoding for each ID. This step converts the IDs to numbers that the model can work with.\n",
    "* Another **MapValueToKey** which reads the MovieID column, encodes it, and stores the encodings in output column called MovieIDEncoded.\n",
    "* A **MatrixFactorization** component that performs matrix factorization on the encoded ID columns and the ratings. This step calculates the movie rating predictions for every user and movie.\n",
    "\n",
    "With the pipeline fully assembled, you train the model with a call to **Fit**.\n",
    "\n",
    "You now have a fully- trained model. So now you need to load the validation data, predict the rating for each user and movie, and calculate the accuracy metrics of the model:"
   ]
  },
  {
   "cell_type": "code",
   "execution_count": 9,
   "metadata": {},
   "outputs": [
    {
     "name": "stdout",
     "output_type": "stream",
     "text": [
      "Evaluating the model...\n",
      "  RMSE: .97\n",
      "  MAE:  .61\n",
      "  MSE:  .94\n"
     ]
    }
   ],
   "source": [
    "// evaluate the model performance \n",
    "Console.WriteLine(\"Evaluating the model...\");\n",
    "var predictions = model.Transform(testDataView);\n",
    "var metrics = context.Regression.Evaluate(predictions, labelColumnName: \"Label\", scoreColumnName: \"Score\");\n",
    "Console.WriteLine($\"  RMSE: {metrics.RootMeanSquaredError:#.##}\");\n",
    "Console.WriteLine($\"  MAE:  {metrics.MeanAbsoluteError:#.##}\");\n",
    "Console.WriteLine($\"  MSE:  {metrics.MeanSquaredError:#.##}\");"
   ]
  },
  {
   "cell_type": "markdown",
   "metadata": {},
   "source": [
    "This code uses the **Transform** method to make predictions for every user and movie in the test dataset.\n",
    "\n",
    "The **Evaluate** method compares these predictions to the actual area values and automatically calculates three metrics for me:\n",
    "\n",
    "* **RootMeanSquaredError**: this is the root mean square error or RMSE value. It’s the go-to metric in the field of machine learning to evaluate models and rate their accuracy. RMSE represents the length of a vector in n-dimensional space, made up of the error in each individual prediction.\n",
    "* **MeanAbsoluteError**: this is the mean absolute prediction error, expressed as a rating.\n",
    "* **MeanSquaredError**: this is the mean square prediction error, or MSE value. Note that RMSE and MSE are related: RMSE is just the square root of MSE.\n",
    "\n",
    "My validation RMSE is 0.97 and the MAE is 0.61. That means that on average the model is off by slightly over half a rating point. That's a pretty good result!\n",
    "\n",
    "To wrap up, let’s use the model to make a prediction about me. Here are 6 movies I like:\n",
    "\n",
    "* Blade Runner\n",
    "* True Lies\n",
    "* Speed\n",
    "* Twelve Monkeys\n",
    "* Things to do in Denver when you're dead\n",
    "* Cloud Atlas\n",
    "\n",
    "And 6 more movies I really didn't like at all:\n",
    "\n",
    "* Ace Ventura: when nature calls\n",
    "* Naked Gun 33 1/3\n",
    "* Highlander II\n",
    "* Throw momma from the train\n",
    "* Jingle all the way\n",
    "* Dude, where's my car?\n",
    "\n",
    "You'll find my ratings at the very end of the training file. I added myself as user 999. \n",
    "\n",
    "So based on this list, do you think I would enjoy the James Bond movie ‘GoldenEye’?\n",
    "\n",
    "Let's write some code to find out:"
   ]
  },
  {
   "cell_type": "code",
   "execution_count": 12,
   "metadata": {},
   "outputs": [
    {
     "name": "stdout",
     "output_type": "stream",
     "text": [
      "Prediction for Mark liking Goldeneye: 3.3517098\r\n"
     ]
    }
   ],
   "source": [
    "// check if Mark likes GoldenEye\n",
    "var predictionEngine = context.Model.CreatePredictionEngine<MovieRating, MovieRatingPrediction>(model);\n",
    "var prediction = predictionEngine.Predict(\n",
    "    new MovieRating()\n",
    "    {\n",
    "        UserID = 999,\n",
    "        MovieID = 10  // GoldenEye\n",
    "    }\n",
    ");\n",
    "Console.WriteLine($\"Prediction for Mark liking Goldeneye: {prediction.Score}\");"
   ]
  },
  {
   "cell_type": "markdown",
   "metadata": {},
   "source": [
    "This code uses the **CreatePredictionEngine** method to set up a prediction engine. The two type arguments are the input data class and the class to hold the prediction. And once the prediction engine is set up, you can simply call **Predict** to make a single prediction on a MovieRating instance.\n",
    "\n",
    "The model predicts that I would give a rating of 3.37 to the movie ‘GoldenEye’. That's actually quite a good prediction. I've seen the movie and found it entertaining, but it's definitely not the best James Bond movie I've ever seen.\n",
    "\n",
    "Let’s do one more thing and ask the model to predict my top-5 favorite movies. \n",
    "\n",
    "We're going to need some helper code:"
   ]
  },
  {
   "cell_type": "code",
   "execution_count": 18,
   "metadata": {},
   "outputs": [],
   "source": [
    "public class Movie\n",
    "{\n",
    "    public int ID;\n",
    "    public String Title;\n",
    "}\n",
    "\n",
    "public static class Movies\n",
    "{\n",
    "    public static List<Movie> All = new List<Movie>();\n",
    "    private static string moviesDataPath = Path.Combine(Environment.CurrentDirectory, \"recommendation-movies.csv\");\n",
    "\n",
    "    static Movies()\n",
    "    {\n",
    "        All = LoadMovieData(moviesDataPath);\n",
    "    }\n",
    "\n",
    "    public static Movie Get(int id)\n",
    "    {\n",
    "        return All.Single(m => m.ID == id);\n",
    "    }\n",
    "\n",
    "    private static List<Movie> LoadMovieData(String moviesdatasetpath)\n",
    "    {\n",
    "        var result = new List<Movie>();\n",
    "        Stream fileReader = File.OpenRead(moviesdatasetpath);\n",
    "        StreamReader reader = new StreamReader(fileReader);\n",
    "        try\n",
    "        {\n",
    "            bool header = true;\n",
    "            int index = 0;\n",
    "            var line = \"\";\n",
    "            while (!reader.EndOfStream)\n",
    "            {\n",
    "                if (header)\n",
    "                {\n",
    "                    line = reader.ReadLine();\n",
    "                    header = false;\n",
    "                }\n",
    "                line = reader.ReadLine();\n",
    "                string[] fields = line.Split(',');\n",
    "                int movieId = Int32.Parse(fields[0].ToString().TrimStart(new char[] { '0' }));\n",
    "                string movieTitle = string.Join(',', fields.Skip(1).Take(fields.Length-2));\n",
    "                result.Add(new Movie() { ID = movieId, Title = movieTitle });\n",
    "                index++;\n",
    "            }\n",
    "        }\n",
    "        finally\n",
    "        {\n",
    "            if (reader != null)\n",
    "            {\n",
    "                reader.Dispose();\n",
    "            }\n",
    "        }\n",
    "\n",
    "        return result;\n",
    "    }\n",
    "}"
   ]
  },
  {
   "cell_type": "markdown",
   "metadata": {},
   "source": [
    "This sets up two new classes: **Movie** which holds the identifier and title of a single movie, and **Movies** which is a list of all movies in the dataset. The **LoadMovieData** method will load the entire list of movie titles from a CSV file.\n",
    "\n",
    "Now we can calculate my top-5 movie list with the following code:"
   ]
  },
  {
   "cell_type": "code",
   "execution_count": 17,
   "metadata": {},
   "outputs": [
    {
     "name": "stdout",
     "output_type": "stream",
     "text": [
      "Calculating Mark's top-5 movies...\n",
      "  Score:4.8665724\tMovie: \"Three Billboards Outside Ebbing, Missouri (2017)\"\n",
      "  Score:4.795279\tMovie: Schindler's List (1993)\n",
      "  Score:4.758946\tMovie: Cinema Paradiso (Nuovo cinema Paradiso) (1989)\n",
      "  Score:4.7308774\tMovie: \"General, The (1926)\"\n",
      "  Score:4.724816\tMovie: \"Shawshank Redemption, The (1994)\"\n"
     ]
    }
   ],
   "source": [
    "// find Mark's top 5 movies\n",
    "Console.WriteLine(\"Calculating Mark's top-5 movies...\");\n",
    "var top5 =  (from m in Movies.All\n",
    "                let p = predictionEngine.Predict(\n",
    "                new MovieRating()\n",
    "                {\n",
    "                    UserID = 999,\n",
    "                    MovieID = m.ID\n",
    "                })\n",
    "                orderby p.Score descending\n",
    "                select (MovieId: m.ID, Score: p.Score)).Take(5);\n",
    "foreach (var t in top5)\n",
    "    Console.WriteLine($\"  Score:{t.Score}\\tMovie: {Movies.Get(t.MovieId)?.Title}\");"
   ]
  },
  {
   "cell_type": "markdown",
   "metadata": {},
   "source": [
    "This code uses the helper class **Movies** to enumerate every movie ID. It predicts my rating every possible movie, sorts them by score in descending order, and takes the top 5 results.\n",
    "\n",
    "Here are the model predictions for my top-5 movies:\n",
    "\n",
    "* Cinema Paradiso\n",
    "* The General\n",
    "* Three billboards outside Ebbing\n",
    "* The Shawshank redemption\n",
    "* Schindler's List\n",
    "\n",
    "This is a good prediction. I've seen Schindler's List and The Shawshank redemption and enjoyed them a lot. I've heard good things about Three billboards outside Ebbing, it sounds like a movie I'd enjoy. \n",
    "\n",
    "I can't say much about Cinema Paradiso or The General. I'll check them out and let you know. "
   ]
  }
 ],
 "metadata": {
  "kernelspec": {
   "display_name": ".NET (C#)",
   "language": "C#",
   "name": ".net-csharp"
  },
  "language_info": {
   "file_extension": ".cs",
   "mimetype": "text/x-csharp",
   "name": "C#",
   "pygments_lexer": "csharp",
   "version": "8.0"
  }
 },
 "nbformat": 4,
 "nbformat_minor": 2
}

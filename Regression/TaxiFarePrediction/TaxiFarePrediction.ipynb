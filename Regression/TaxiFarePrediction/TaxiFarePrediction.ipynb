{
 "cells": [
  {
   "cell_type": "markdown",
   "metadata": {},
   "source": [
    "# Assignment: Predict taxi fares in New York"
   ]
  },
  {
   "cell_type": "markdown",
   "metadata": {},
   "source": [
    "In this assignment you're going to build an app that can predict taxi fares in New York.\n",
    "\n",
    "The first thing you'll need is a data file with transcripts of New York taxi rides. The [NYC Taxi & Limousine Commission](https://www1.nyc.gov/site/tlc/about/tlc-trip-record-data.page) provides yearly TLC Trip Record Data files which have exactly what you need.\n",
    "\n",
    "We're going to use the Yellow Taxi trip records from December 2018. These records have already been downloaded and are available to this notebook in the file **yellow_tripdata_2018-12.csv**. \n",
    "\n",
    "This is a CSV file with 8,173,233 records that looks like this:\n",
    "￼\n",
    "\n",
    "![Data File](./assets/data.png)\n",
    "\n",
    "\n",
    "There are a lot of columns with interesting information in this data file, but you will only train on the following:\n",
    "\n",
    "* Column 0: The data provider vendor ID\n",
    "* Column 3: Number of passengers\n",
    "* Column 4: Trip distance\n",
    "* Column 5: The rate code (standard, JFK, Newark, …)\n",
    "* Column 9: Payment type (credit card, cash, …)\n",
    "* Column 10: Fare amount\n",
    "\n",
    "You are going to build a machine learning model in C# that will use columns 0, 3, 4, 5, and 9 as input, and use them to predict the taxi fare for every trip. Then you’ll compare the predicted fares with the actual taxi fares in column 10, and evaluate the accuracy of your model.\n",
    "\n",
    "We will start by installing the NuGet package for ML.NET and a support package for fast decision trees. \n",
    "\n",
    "Run the following code block:"
   ]
  },
  {
   "cell_type": "code",
   "execution_count": 3,
   "metadata": {},
   "outputs": [
    {
     "data": {
      "text/html": [
       "Installing package Microsoft.ML................done!"
      ]
     },
     "metadata": {},
     "output_type": "display_data"
    },
    {
     "data": {
      "text/html": [
       "Successfully added reference to package Microsoft.ML, version 1.4.0"
      ]
     },
     "metadata": {},
     "output_type": "display_data"
    },
    {
     "data": {
      "text/html": [
       "Installing package Microsoft.ML.FastTree......done!"
      ]
     },
     "metadata": {},
     "output_type": "display_data"
    },
    {
     "data": {
      "text/html": [
       "Successfully added reference to package Microsoft.ML.FastTree, version 1.4.0"
      ]
     },
     "metadata": {},
     "output_type": "display_data"
    }
   ],
   "source": [
    "#r nuget:Microsoft.ML\n",
    "#r nuget:Microsoft.ML.FastTree"
   ]
  },
  {
   "cell_type": "markdown",
   "metadata": {},
   "source": [
    "Now we're ready to add some classes. You’ll need one to hold a taxi trip, and one to hold your model predictions.\n",
    "\n",
    "Run the following code:"
   ]
  },
  {
   "cell_type": "code",
   "execution_count": 4,
   "metadata": {},
   "outputs": [],
   "source": [
    "using System;\n",
    "using System.IO;\n",
    "using Microsoft.ML;\n",
    "using Microsoft.ML.Data;\n",
    "\n",
    "/// <summary>\n",
    "/// The TaxiTrip class represents a single taxi trip.\n",
    "/// </summary>\n",
    "public class TaxiTrip\n",
    "{\n",
    "    [LoadColumn(0)] public string VendorId;\n",
    "    [LoadColumn(5)] public string RateCode;\n",
    "    [LoadColumn(3)] public float PassengerCount;\n",
    "    [LoadColumn(4)] public float TripDistance;\n",
    "    [LoadColumn(9)] public string PaymentType;\n",
    "    [LoadColumn(10)] public float FareAmount;\n",
    "}\n",
    "\n",
    "/// <summary>\n",
    "/// The TaxiTripFarePrediction class represents a single fare prediction.\n",
    "/// </summary>\n",
    "public class TaxiTripFarePrediction\n",
    "{\n",
    "    [ColumnName(\"Score\")]\n",
    "    public float FareAmount;\n",
    "}"
   ]
  },
  {
   "cell_type": "markdown",
   "metadata": {},
   "source": [
    "The **TaxiTrip** class holds one single taxi trip. Note how each field is tagged with a **LoadColumn** attribute that tells the CSV data loading code which column to import data from.\n",
    "\n",
    "You're also declaring a **TaxiTripFarePrediction** class which will hold a single fare prediction.\n",
    "\n",
    "Now you need to load the training data in memory:"
   ]
  },
  {
   "cell_type": "code",
   "execution_count": 5,
   "metadata": {},
   "outputs": [
    {
     "name": "stdout",
     "output_type": "stream",
     "text": [
      "Loading training data....done\n"
     ]
    }
   ],
   "source": [
    "// file path to data file\n",
    "static readonly string dataPath = Path.Combine(Environment.CurrentDirectory, \"yellow_tripdata_2018-12.csv\");\n",
    "\n",
    "// create the machine learning context\n",
    "var mlContext = new MLContext();\n",
    "\n",
    "// set up the text loader \n",
    "var textLoader = mlContext.Data.CreateTextLoader(\n",
    "    new TextLoader.Options() \n",
    "    {\n",
    "        Separators = new[] { ',' },\n",
    "        HasHeader = true,\n",
    "        Columns = new[] \n",
    "        {\n",
    "            new TextLoader.Column(\"VendorId\", DataKind.String, 0),\n",
    "            new TextLoader.Column(\"RateCode\", DataKind.String, 5),\n",
    "            new TextLoader.Column(\"PassengerCount\", DataKind.Single, 3),\n",
    "            new TextLoader.Column(\"TripDistance\", DataKind.Single, 4),\n",
    "            new TextLoader.Column(\"PaymentType\", DataKind.String, 9),\n",
    "            new TextLoader.Column(\"FareAmount\", DataKind.Single, 10)\n",
    "        }\n",
    "    }\n",
    ");\n",
    "\n",
    "// load the data \n",
    "Console.Write(\"Loading training data....\");\n",
    "var dataView = textLoader.Load(dataPath);\n",
    "Console.WriteLine(\"done\");\n",
    "\n",
    "// split into a training and test partition\n",
    "var partitions = mlContext.Data.TrainTestSplit(dataView, testFraction: 0.2);"
   ]
  },
  {
   "cell_type": "markdown",
   "metadata": {},
   "source": [
    "This code sets up a **TextLoader** to load the CSV data into memory. Note that all column data types are what you’d expect, except **RateCode** and **PaymentType**. These columns hold numeric values, but you are loading then as string fields.\n",
    "\n",
    "The reason you need to do this is because RateCode is an enumeration with the following values:\n",
    "\n",
    "* 1 = standard\n",
    "* 2 = JFK\n",
    "* 3 = Newark\n",
    "* 4 = Nassau\n",
    "* 5 = negotiated\n",
    "* 6 = group\n",
    "\n",
    "And PaymentType is defined as follows:\n",
    "\n",
    "* 1 = Credit card\n",
    "* 2 = Cash\n",
    "* 3 = No charge\n",
    "* 4 = Dispute\n",
    "* 5 = Unknown\n",
    "* 6 = Voided trip\n",
    "\n",
    "These actual numbers don’t mean anything in this context. And we certainly don’t want the machine learning model to start believing that a trip to Newark is three times as important as a standard fare.\n",
    "\n",
    "So converting these values to strings is a perfect trick to show the model that **RateCode** and **PaymentType** are just labels, and the underlying numbers don’t mean anything.\n",
    "\n",
    "With the TextLoader all set up, a single call to **Load** is sufficient to load the entire data file in memory.\n",
    "\n",
    "There is only one single data file, so you need to call **TrainTestSplit** to set up a training partition with 80% of the data and a test partition with the remaining 20% of the data.\n",
    "\n",
    "You often see this 80/20 split in data science, it’s a very common approach to train and test a model.\n",
    "\n",
    "Now you’re ready to start building the machine learning model:\n"
   ]
  },
  {
   "cell_type": "code",
   "execution_count": 7,
   "metadata": {},
   "outputs": [
    {
     "name": "stdout",
     "output_type": "stream",
     "text": [
      "Training the model, this can take up to a minute. Please wait until the word 'done' appears....done\n"
     ]
    }
   ],
   "source": [
    "// set up a learning pipeline\n",
    "var pipeline = mlContext.Transforms.CopyColumns(\n",
    "    inputColumnName:\"FareAmount\", \n",
    "    outputColumnName:\"Label\")\n",
    "\n",
    "    // one-hot encode all text features\n",
    "    .Append(mlContext.Transforms.Categorical.OneHotEncoding(\"VendorId\"))\n",
    "    .Append(mlContext.Transforms.Categorical.OneHotEncoding(\"RateCode\"))\n",
    "    .Append(mlContext.Transforms.Categorical.OneHotEncoding(\"PaymentType\"))\n",
    "\n",
    "    // combine all input features into a single column \n",
    "    .Append(mlContext.Transforms.Concatenate(\n",
    "        \"Features\", \n",
    "        \"VendorId\", \n",
    "        \"RateCode\", \n",
    "        \"PassengerCount\", \n",
    "        \"TripDistance\", \n",
    "        \"PaymentType\"))\n",
    "\n",
    "    // cache the data to speed up training\n",
    "    .AppendCacheCheckpoint(mlContext)\n",
    "\n",
    "    // use the fast tree learner \n",
    "    .Append(mlContext.Regression.Trainers.FastTree());\n",
    "\n",
    "// train the model\n",
    "Console.Write(\"Training the model, this can take up to a minute. Please wait until the word 'done' appears....\");\n",
    "var model = pipeline.Fit(partitions.TrainSet);\n",
    "Console.WriteLine(\"done\");"
   ]
  },
  {
   "cell_type": "markdown",
   "metadata": {},
   "source": [
    "Machine learning models in ML.NET are built with pipelines which are sequences of data-loading, transformation, and learning components.\n",
    "\n",
    "This pipeline has the following components:\n",
    "\n",
    "* **CopyColumns** which copies the FareAmount column to a new column called Label. This Label column holds the actual taxi fare that the model has to predict.\n",
    "* A group of three **OneHotEncodings** to perform one hot encoding on the three columns that contains enumerative data: VendorId, RateCode, and PaymentType. This is a required step because machine learning models cannot handle enumerative data directly.\n",
    "* **Concatenate** which combines all input data columns into a single column called Features. This is a required step because ML.NET can only train on a single input column.\n",
    "* **AppendCacheCheckpoint** which caches all data in memory to speed up the training process.\n",
    "* A final **FastTree** regression learner which will train the model to make accurate predictions.\n",
    "\n",
    "The **FastTreeRegressionTrainer** is a very nice training algorithm that uses gradient boosting, a machine learning technique for regression problems.\n",
    "\n",
    "A gradient boosting algorithm builds up a collection of weak regression models. It starts out with a weak model that tries to predict the taxi fare. Then it adds a second model that attempts to correct the error in the first model. And then it adds a third model, and so on.\n",
    "\n",
    "The result is a fairly strong prediction model that is actually just an ensemble of weaker prediction models stacked on top of each other.\n",
    "\n",
    "With the pipeline fully assembled, you can train the model on the training partition with a call to **Fit**.\n",
    "\n",
    "You now have a fully- trained model. So next, you'll have to load the validation data, predict the taxi fare for each trip, and calculate the accuracy of your model:"
   ]
  },
  {
   "cell_type": "code",
   "execution_count": 8,
   "metadata": {},
   "outputs": [
    {
     "name": "stdout",
     "output_type": "stream",
     "text": [
      "Evaluating the model....done\n",
      "\n",
      "Model metrics:\n",
      "  RMSE:58.95\n",
      "  MSE: 3475.09\n",
      "  MAE: 2.12\n",
      "\n"
     ]
    }
   ],
   "source": [
    "// get a set of predictions \n",
    "Console.Write(\"Evaluating the model....\");\n",
    "var predictions = model.Transform(partitions.TestSet);\n",
    "\n",
    "// get regression metrics to score the model\n",
    "var metrics = mlContext.Regression.Evaluate(predictions, \"Label\", \"Score\");\n",
    "Console.WriteLine(\"done\");\n",
    "\n",
    "// show the metrics\n",
    "Console.WriteLine();\n",
    "Console.WriteLine($\"Model metrics:\");\n",
    "Console.WriteLine($\"  RMSE:{metrics.RootMeanSquaredError:#.##}\");\n",
    "Console.WriteLine($\"  MSE: {metrics.MeanSquaredError:#.##}\");\n",
    "Console.WriteLine($\"  MAE: {metrics.MeanAbsoluteError:#.##}\");\n",
    "Console.WriteLine();"
   ]
  },
  {
   "cell_type": "markdown",
   "metadata": {},
   "source": [
    "This code calls **Transform** to set up predictions for every single taxi trip in the test partition. The **Evaluate**(…) method then compares these predictions to the actual taxi fares and automatically calculates these metrics:\n",
    "\n",
    "* **RootMeanSquaredError**: this is the root mean squared error or RMSE value. It’s the go-to metric in the field of machine learning to evaluate models and rate their accuracy. RMSE represents the length of a vector in n-dimensional space, made up of the error in each individual prediction.\n",
    "* **MeanAbsoluteError**: this is the mean absolute prediction error or MAE value, expressed in dollars.\n",
    "* **MeanSquaredError**: this is the mean squared error, or MSE value. Note that RMSE and MSE are related: RMSE is the square root of MSE.\n",
    "\n",
    "To wrap up, let’s use the model to make a prediction.\n",
    "\n",
    "Imagine that I'm going to take a standard taxi trip, I cover a distance of 3.75 miles, I am the only passenger, and I pay by credit card. What would my fare be? \n",
    "\n",
    "Here’s how to make that prediction:"
   ]
  },
  {
   "cell_type": "code",
   "execution_count": 9,
   "metadata": {},
   "outputs": [
    {
     "name": "stdout",
     "output_type": "stream",
     "text": [
      "Single prediction:\n",
      "  Predicted fare: 16.5505\n"
     ]
    }
   ],
   "source": [
    "// create a prediction engine for one single prediction\n",
    "var predictionFunction = mlContext.Model.CreatePredictionEngine<TaxiTrip, TaxiTripFarePrediction>(model);\n",
    "\n",
    "// prep a single taxi trip\n",
    "var taxiTripSample = new TaxiTrip()\n",
    "{\n",
    "    VendorId = \"2\",\n",
    "    RateCode = \"1\",\n",
    "    PassengerCount = 1,\n",
    "    TripDistance = 3.75f,\n",
    "    PaymentType = \"1\",\n",
    "    FareAmount = 0 // the model will predict the actual fare for this trip\n",
    "};\n",
    "\n",
    "// make the prediction\n",
    "var prediction = predictionFunction.Predict(taxiTripSample);\n",
    "\n",
    "// sho the prediction\n",
    "Console.WriteLine($\"Single prediction:\");\n",
    "Console.WriteLine($\"  Predicted fare: {prediction.FareAmount:0.####}\");"
   ]
  },
  {
   "cell_type": "markdown",
   "metadata": {},
   "source": [
    "You use the **CreatePredictionEngine** method to set up a prediction engine. The two type arguments are the input data class and the class to hold the prediction. And once the prediction engine is set up, you can simply call **Predict** to make a single prediction.\n",
    "\n",
    "The trip should cost anywhere between 13.50 and 18.50, depending on the trip duration (which depends on the time of day). \n",
    "\n",
    "Can you think of ways to improve the accuracy of your predictions?"
   ]
  }
 ],
 "metadata": {
  "kernelspec": {
   "display_name": ".NET (C#)",
   "language": "C#",
   "name": ".net-csharp"
  },
  "language_info": {
   "file_extension": ".cs",
   "mimetype": "text/x-csharp",
   "name": "C#",
   "pygments_lexer": "csharp",
   "version": "8.0"
  }
 },
 "nbformat": 4,
 "nbformat_minor": 2
}
